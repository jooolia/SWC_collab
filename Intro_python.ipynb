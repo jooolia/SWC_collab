{
 "metadata": {
  "name": ""
 },
 "nbformat": 3,
 "nbformat_minor": 0,
 "worksheets": [
  {
   "cells": [
    {
     "cell_type": "heading",
     "level": 1,
     "metadata": {},
     "source": [
      "Intro Python"
     ]
    },
    {
     "cell_type": "code",
     "collapsed": false,
     "input": [
      "print \"Hello World\"\n"
     ],
     "language": "python",
     "metadata": {},
     "outputs": [
      {
       "output_type": "stream",
       "stream": "stdout",
       "text": [
        "Hello World\n"
       ]
      }
     ],
     "prompt_number": 4
    },
    {
     "cell_type": "raw",
     "metadata": {},
     "source": [
      "variable"
     ]
    },
    {
     "cell_type": "code",
     "collapsed": false,
     "input": [
      "i=0"
     ],
     "language": "python",
     "metadata": {},
     "outputs": [],
     "prompt_number": 26
    },
    {
     "cell_type": "code",
     "collapsed": false,
     "input": [
      "print i"
     ],
     "language": "python",
     "metadata": {},
     "outputs": [
      {
       "output_type": "stream",
       "stream": "stdout",
       "text": [
        "0\n"
       ]
      }
     ],
     "prompt_number": 13
    },
    {
     "cell_type": "code",
     "collapsed": false,
     "input": [
      "i=i+1"
     ],
     "language": "python",
     "metadata": {},
     "outputs": [
      {
       "ename": "NameError",
       "evalue": "name 'i' is not defined",
       "output_type": "pyerr",
       "traceback": [
        "\u001b[1;31m---------------------------------------------------------------------------\u001b[0m\n\u001b[1;31mNameError\u001b[0m                                 Traceback (most recent call last)",
        "\u001b[1;32m<ipython-input-24-63f7626d394f>\u001b[0m in \u001b[0;36m<module>\u001b[1;34m()\u001b[0m\n\u001b[1;32m----> 1\u001b[1;33m \u001b[0mi\u001b[0m\u001b[1;33m=\u001b[0m\u001b[0mi\u001b[0m\u001b[1;33m+\u001b[0m\u001b[1;36m1\u001b[0m\u001b[1;33m\u001b[0m\u001b[0m\n\u001b[0m",
        "\u001b[1;31mNameError\u001b[0m: name 'i' is not defined"
       ]
      }
     ],
     "prompt_number": 24
    },
    {
     "cell_type": "code",
     "collapsed": false,
     "input": [
      "print i"
     ],
     "language": "python",
     "metadata": {},
     "outputs": [
      {
       "output_type": "stream",
       "stream": "stdout",
       "text": [
        "1\n"
       ]
      }
     ],
     "prompt_number": 21
    },
    {
     "cell_type": "code",
     "collapsed": true,
     "input": [
      "help(int)\n"
     ],
     "language": "python",
     "metadata": {},
     "outputs": [
      {
       "output_type": "stream",
       "stream": "stdout",
       "text": [
        "Help on class int in module __builtin__:\n",
        "\n",
        "class int(object)\n",
        " |  int(x=0) -> int or long\n",
        " |  int(x, base=10) -> int or long\n",
        " |  \n",
        " |  Convert a number or string to an integer, or return 0 if no arguments\n",
        " |  are given.  If x is floating point, the conversion truncates towards zero.\n",
        " |  If x is outside the integer range, the function returns a long instead.\n",
        " |  \n",
        " |  If x is not a number or if base is given, then x must be a string or\n",
        " |  Unicode object representing an integer literal in the given base.  The\n",
        " |  literal can be preceded by '+' or '-' and be surrounded by whitespace.\n",
        " |  The base defaults to 10.  Valid bases are 0 and 2-36.  Base 0 means to\n",
        " |  interpret the base from the string as an integer literal.\n",
        " |  >>> int('0b100', base=0)\n",
        " |  4\n",
        " |  \n",
        " |  Methods defined here:\n",
        " |  \n",
        " |  __abs__(...)\n",
        " |      x.__abs__() <==> abs(x)\n",
        " |  \n",
        " |  __add__(...)\n",
        " |      x.__add__(y) <==> x+y\n",
        " |  \n",
        " |  __and__(...)\n",
        " |      x.__and__(y) <==> x&y\n",
        " |  \n",
        " |  __cmp__(...)\n",
        " |      x.__cmp__(y) <==> cmp(x,y)\n",
        " |  \n",
        " |  __coerce__(...)\n",
        " |      x.__coerce__(y) <==> coerce(x, y)\n",
        " |  \n",
        " |  __div__(...)\n",
        " |      x.__div__(y) <==> x/y\n",
        " |  \n",
        " |  __divmod__(...)\n",
        " |      x.__divmod__(y) <==> divmod(x, y)\n",
        " |  \n",
        " |  __float__(...)\n",
        " |      x.__float__() <==> float(x)\n",
        " |  \n",
        " |  __floordiv__(...)\n",
        " |      x.__floordiv__(y) <==> x//y\n",
        " |  \n",
        " |  __format__(...)\n",
        " |  \n",
        " |  __getattribute__(...)\n",
        " |      x.__getattribute__('name') <==> x.name\n",
        " |  \n",
        " |  __getnewargs__(...)\n",
        " |  \n",
        " |  __hash__(...)\n",
        " |      x.__hash__() <==> hash(x)\n",
        " |  \n",
        " |  __hex__(...)\n",
        " |      x.__hex__() <==> hex(x)\n",
        " |  \n",
        " |  __index__(...)\n",
        " |      x[y:z] <==> x[y.__index__():z.__index__()]\n",
        " |  \n",
        " |  __int__(...)\n",
        " |      x.__int__() <==> int(x)\n",
        " |  \n",
        " |  __invert__(...)\n",
        " |      x.__invert__() <==> ~x\n",
        " |  \n",
        " |  __long__(...)\n",
        " |      x.__long__() <==> long(x)\n",
        " |  \n",
        " |  __lshift__(...)\n",
        " |      x.__lshift__(y) <==> x<<y\n",
        " |  \n",
        " |  __mod__(...)\n",
        " |      x.__mod__(y) <==> x%y\n",
        " |  \n",
        " |  __mul__(...)\n",
        " |      x.__mul__(y) <==> x*y\n",
        " |  \n",
        " |  __neg__(...)\n",
        " |      x.__neg__() <==> -x\n",
        " |  \n",
        " |  __nonzero__(...)\n",
        " |      x.__nonzero__() <==> x != 0\n",
        " |  \n",
        " |  __oct__(...)\n",
        " |      x.__oct__() <==> oct(x)\n",
        " |  \n",
        " |  __or__(...)\n",
        " |      x.__or__(y) <==> x|y\n",
        " |  \n",
        " |  __pos__(...)\n",
        " |      x.__pos__() <==> +x\n",
        " |  \n",
        " |  __pow__(...)\n",
        " |      x.__pow__(y[, z]) <==> pow(x, y[, z])\n",
        " |  \n",
        " |  __radd__(...)\n",
        " |      x.__radd__(y) <==> y+x\n",
        " |  \n",
        " |  __rand__(...)\n",
        " |      x.__rand__(y) <==> y&x\n",
        " |  \n",
        " |  __rdiv__(...)\n",
        " |      x.__rdiv__(y) <==> y/x\n",
        " |  \n",
        " |  __rdivmod__(...)\n",
        " |      x.__rdivmod__(y) <==> divmod(y, x)\n",
        " |  \n",
        " |  __repr__(...)\n",
        " |      x.__repr__() <==> repr(x)\n",
        " |  \n",
        " |  __rfloordiv__(...)\n",
        " |      x.__rfloordiv__(y) <==> y//x\n",
        " |  \n",
        " |  __rlshift__(...)\n",
        " |      x.__rlshift__(y) <==> y<<x\n",
        " |  \n",
        " |  __rmod__(...)\n",
        " |      x.__rmod__(y) <==> y%x\n",
        " |  \n",
        " |  __rmul__(...)\n",
        " |      x.__rmul__(y) <==> y*x\n",
        " |  \n",
        " |  __ror__(...)\n",
        " |      x.__ror__(y) <==> y|x\n",
        " |  \n",
        " |  __rpow__(...)\n",
        " |      y.__rpow__(x[, z]) <==> pow(x, y[, z])\n",
        " |  \n",
        " |  __rrshift__(...)\n",
        " |      x.__rrshift__(y) <==> y>>x\n",
        " |  \n",
        " |  __rshift__(...)\n",
        " |      x.__rshift__(y) <==> x>>y\n",
        " |  \n",
        " |  __rsub__(...)\n",
        " |      x.__rsub__(y) <==> y-x\n",
        " |  \n",
        " |  __rtruediv__(...)\n",
        " |      x.__rtruediv__(y) <==> y/x\n",
        " |  \n",
        " |  __rxor__(...)\n",
        " |      x.__rxor__(y) <==> y^x\n",
        " |  \n",
        " |  __str__(...)\n",
        " |      x.__str__() <==> str(x)\n",
        " |  \n",
        " |  __sub__(...)\n",
        " |      x.__sub__(y) <==> x-y\n",
        " |  \n",
        " |  __truediv__(...)\n",
        " |      x.__truediv__(y) <==> x/y\n",
        " |  \n",
        " |  __trunc__(...)\n",
        " |      Truncating an Integral returns itself.\n",
        " |  \n",
        " |  __xor__(...)\n",
        " |      x.__xor__(y) <==> x^y\n",
        " |  \n",
        " |  bit_length(...)\n",
        " |      int.bit_length() -> int\n",
        " |      \n",
        " |      Number of bits necessary to represent self in binary.\n",
        " |      >>> bin(37)\n",
        " |      '0b100101'\n",
        " |      >>> (37).bit_length()\n",
        " |      6\n",
        " |  \n",
        " |  conjugate(...)\n",
        " |      Returns self, the complex conjugate of any int.\n",
        " |  \n",
        " |  ----------------------------------------------------------------------\n",
        " |  Data descriptors defined here:\n",
        " |  \n",
        " |  denominator\n",
        " |      the denominator of a rational number in lowest terms\n",
        " |  \n",
        " |  imag\n",
        " |      the imaginary part of a complex number\n",
        " |  \n",
        " |  numerator\n",
        " |      the numerator of a rational number in lowest terms\n",
        " |  \n",
        " |  real\n",
        " |      the real part of a complex number\n",
        " |  \n",
        " |  ----------------------------------------------------------------------\n",
        " |  Data and other attributes defined here:\n",
        " |  \n",
        " |  __new__ = <built-in method __new__ of type object>\n",
        " |      T.__new__(S, ...) -> a new object with type S, a subtype of T\n",
        "\n"
       ]
      }
     ],
     "prompt_number": 18
    },
    {
     "cell_type": "code",
     "collapsed": false,
     "input": [
      "int?"
     ],
     "language": "python",
     "metadata": {},
     "outputs": [],
     "prompt_number": 20
    },
    {
     "cell_type": "code",
     "collapsed": false,
     "input": [
      "%reset"
     ],
     "language": "python",
     "metadata": {},
     "outputs": [
      {
       "name": "stdout",
       "output_type": "stream",
       "stream": "stdout",
       "text": [
        "Once deleted, variables cannot be recovered. Proceed (y/[n])? y\n"
       ]
      }
     ],
     "prompt_number": 22
    },
    {
     "cell_type": "code",
     "collapsed": false,
     "input": [
      "print i"
     ],
     "language": "python",
     "metadata": {},
     "outputs": [
      {
       "output_type": "stream",
       "stream": "stdout",
       "text": [
        "0\n"
       ]
      }
     ],
     "prompt_number": 27
    },
    {
     "cell_type": "code",
     "collapsed": false,
     "input": [
      "name=\"Julia\"\n",
      "temperature=98.6\n",
      "Days_in_Fredericton=3"
     ],
     "language": "python",
     "metadata": {},
     "outputs": [],
     "prompt_number": 30
    },
    {
     "cell_type": "code",
     "collapsed": false,
     "input": [
      "print name, #printing name\n",
      "print temperature,\n",
      "print Days_in_Fredericton"
     ],
     "language": "python",
     "metadata": {},
     "outputs": [
      {
       "output_type": "stream",
       "stream": "stdout",
       "text": [
        "Julia 98.6 3\n"
       ]
      }
     ],
     "prompt_number": 36
    },
    {
     "cell_type": "code",
     "collapsed": false,
     "input": [
      "print sin(3)"
     ],
     "language": "python",
     "metadata": {},
     "outputs": [
      {
       "ename": "NameError",
       "evalue": "name 'sin' is not defined",
       "output_type": "pyerr",
       "traceback": [
        "\u001b[1;31m---------------------------------------------------------------------------\u001b[0m\n\u001b[1;31mNameError\u001b[0m                                 Traceback (most recent call last)",
        "\u001b[1;32m<ipython-input-37-0cc32f0ffbcf>\u001b[0m in \u001b[0;36m<module>\u001b[1;34m()\u001b[0m\n\u001b[1;32m----> 1\u001b[1;33m \u001b[1;32mprint\u001b[0m \u001b[0msin\u001b[0m\u001b[1;33m(\u001b[0m\u001b[1;36m3\u001b[0m\u001b[1;33m)\u001b[0m\u001b[1;33m\u001b[0m\u001b[0m\n\u001b[0m",
        "\u001b[1;31mNameError\u001b[0m: name 'sin' is not defined"
       ]
      }
     ],
     "prompt_number": 37
    },
    {
     "cell_type": "code",
     "collapsed": false,
     "input": [
      "import math #Import math module"
     ],
     "language": "python",
     "metadata": {},
     "outputs": [],
     "prompt_number": 38
    },
    {
     "cell_type": "code",
     "collapsed": false,
     "input": [
      "print math.sin(3)"
     ],
     "language": "python",
     "metadata": {},
     "outputs": [
      {
       "output_type": "stream",
       "stream": "stdout",
       "text": [
        "0.14112000806\n"
       ]
      }
     ],
     "prompt_number": 39
    },
    {
     "cell_type": "code",
     "collapsed": true,
     "input": [
      "dir(math) #list everything in math module"
     ],
     "language": "python",
     "metadata": {},
     "outputs": [
      {
       "metadata": {},
       "output_type": "pyout",
       "prompt_number": 40,
       "text": [
        "['__doc__',\n",
        " '__name__',\n",
        " '__package__',\n",
        " 'acos',\n",
        " 'acosh',\n",
        " 'asin',\n",
        " 'asinh',\n",
        " 'atan',\n",
        " 'atan2',\n",
        " 'atanh',\n",
        " 'ceil',\n",
        " 'copysign',\n",
        " 'cos',\n",
        " 'cosh',\n",
        " 'degrees',\n",
        " 'e',\n",
        " 'erf',\n",
        " 'erfc',\n",
        " 'exp',\n",
        " 'expm1',\n",
        " 'fabs',\n",
        " 'factorial',\n",
        " 'floor',\n",
        " 'fmod',\n",
        " 'frexp',\n",
        " 'fsum',\n",
        " 'gamma',\n",
        " 'hypot',\n",
        " 'isinf',\n",
        " 'isnan',\n",
        " 'ldexp',\n",
        " 'lgamma',\n",
        " 'log',\n",
        " 'log10',\n",
        " 'log1p',\n",
        " 'modf',\n",
        " 'pi',\n",
        " 'pow',\n",
        " 'radians',\n",
        " 'sin',\n",
        " 'sinh',\n",
        " 'sqrt',\n",
        " 'tan',\n",
        " 'tanh',\n",
        " 'trunc']"
       ]
      }
     ],
     "prompt_number": 40
    },
    {
     "cell_type": "code",
     "collapsed": true,
     "input": [
      "help(math)"
     ],
     "language": "python",
     "metadata": {},
     "outputs": [
      {
       "ename": "NameError",
       "evalue": "name 'math' is not defined",
       "output_type": "pyerr",
       "traceback": [
        "\u001b[1;31m---------------------------------------------------------------------------\u001b[0m\n\u001b[1;31mNameError\u001b[0m                                 Traceback (most recent call last)",
        "\u001b[1;32m<ipython-input-50-86040611b48e>\u001b[0m in \u001b[0;36m<module>\u001b[1;34m()\u001b[0m\n\u001b[1;32m----> 1\u001b[1;33m \u001b[0mhelp\u001b[0m\u001b[1;33m(\u001b[0m\u001b[0mmath\u001b[0m\u001b[1;33m)\u001b[0m\u001b[1;33m\u001b[0m\u001b[0m\n\u001b[0m",
        "\u001b[1;31mNameError\u001b[0m: name 'math' is not defined"
       ]
      }
     ],
     "prompt_number": 50
    },
    {
     "cell_type": "code",
     "collapsed": false,
     "input": [],
     "language": "python",
     "metadata": {},
     "outputs": []
    },
    {
     "cell_type": "code",
     "collapsed": false,
     "input": [],
     "language": "python",
     "metadata": {},
     "outputs": []
    },
    {
     "cell_type": "code",
     "collapsed": false,
     "input": [
      "print math.tan(3)"
     ],
     "language": "python",
     "metadata": {},
     "outputs": [
      {
       "output_type": "stream",
       "stream": "stdout",
       "text": [
        "-0.142546543074\n"
       ]
      }
     ],
     "prompt_number": 42
    },
    {
     "cell_type": "code",
     "collapsed": false,
     "input": [
      "%reset"
     ],
     "language": "python",
     "metadata": {},
     "outputs": [
      {
       "name": "stdout",
       "output_type": "stream",
       "stream": "stdout",
       "text": [
        "Once deleted, variables cannot be recovered. Proceed (y/[n])? y\n"
       ]
      }
     ],
     "prompt_number": 43
    },
    {
     "cell_type": "code",
     "collapsed": true,
     "input": [
      "print math.tan(3)"
     ],
     "language": "python",
     "metadata": {},
     "outputs": [
      {
       "ename": "NameError",
       "evalue": "name 'math' is not defined",
       "output_type": "pyerr",
       "traceback": [
        "\u001b[1;31m---------------------------------------------------------------------------\u001b[0m\n\u001b[1;31mNameError\u001b[0m                                 Traceback (most recent call last)",
        "\u001b[1;32m<ipython-input-44-f7cdd550d1c7>\u001b[0m in \u001b[0;36m<module>\u001b[1;34m()\u001b[0m\n\u001b[1;32m----> 1\u001b[1;33m \u001b[1;32mprint\u001b[0m \u001b[0mmath\u001b[0m\u001b[1;33m.\u001b[0m\u001b[0mtan\u001b[0m\u001b[1;33m(\u001b[0m\u001b[1;36m3\u001b[0m\u001b[1;33m)\u001b[0m\u001b[1;33m\u001b[0m\u001b[0m\n\u001b[0m",
        "\u001b[1;31mNameError\u001b[0m: name 'math' is not defined"
       ]
      }
     ],
     "prompt_number": 44
    },
    {
     "cell_type": "code",
     "collapsed": false,
     "input": [
      "import math as m #imports math but with alias"
     ],
     "language": "python",
     "metadata": {},
     "outputs": [],
     "prompt_number": 45
    },
    {
     "cell_type": "code",
     "collapsed": false,
     "input": [
      "print m.tan(3)"
     ],
     "language": "python",
     "metadata": {},
     "outputs": [
      {
       "output_type": "stream",
       "stream": "stdout",
       "text": [
        "-0.142546543074\n"
       ]
      }
     ],
     "prompt_number": 46
    },
    {
     "cell_type": "code",
     "collapsed": false,
     "input": [
      "print \"Tan of 3\", m.tan(3)"
     ],
     "language": "python",
     "metadata": {},
     "outputs": [
      {
       "output_type": "stream",
       "stream": "stdout",
       "text": [
        "Tan of 3 -0.142546543074\n"
       ]
      }
     ],
     "prompt_number": 47
    },
    {
     "cell_type": "code",
     "collapsed": false,
     "input": [
      "print m.log10(1200)"
     ],
     "language": "python",
     "metadata": {},
     "outputs": [
      {
       "output_type": "stream",
       "stream": "stdout",
       "text": [
        "3.07918124605\n"
       ]
      }
     ],
     "prompt_number": 49
    },
    {
     "cell_type": "code",
     "collapsed": true,
     "input": [
      "help(m)"
     ],
     "language": "python",
     "metadata": {},
     "outputs": [
      {
       "output_type": "stream",
       "stream": "stdout",
       "text": [
        "Help on built-in module math:\n",
        "\n",
        "NAME\n",
        "    math\n",
        "\n",
        "FILE\n",
        "    (built-in)\n",
        "\n",
        "DESCRIPTION\n",
        "    This module is always available.  It provides access to the\n",
        "    mathematical functions defined by the C standard.\n",
        "\n",
        "FUNCTIONS\n",
        "    acos(...)\n",
        "        acos(x)\n",
        "        \n",
        "        Return the arc cosine (measured in radians) of x.\n",
        "    \n",
        "    acosh(...)\n",
        "        acosh(x)\n",
        "        \n",
        "        Return the hyperbolic arc cosine (measured in radians) of x.\n",
        "    \n",
        "    asin(...)\n",
        "        asin(x)\n",
        "        \n",
        "        Return the arc sine (measured in radians) of x.\n",
        "    \n",
        "    asinh(...)\n",
        "        asinh(x)\n",
        "        \n",
        "        Return the hyperbolic arc sine (measured in radians) of x.\n",
        "    \n",
        "    atan(...)\n",
        "        atan(x)\n",
        "        \n",
        "        Return the arc tangent (measured in radians) of x.\n",
        "    \n",
        "    atan2(...)\n",
        "        atan2(y, x)\n",
        "        \n",
        "        Return the arc tangent (measured in radians) of y/x.\n",
        "        Unlike atan(y/x), the signs of both x and y are considered.\n",
        "    \n",
        "    atanh(...)\n",
        "        atanh(x)\n",
        "        \n",
        "        Return the hyperbolic arc tangent (measured in radians) of x.\n",
        "    \n",
        "    ceil(...)\n",
        "        ceil(x)\n",
        "        \n",
        "        Return the ceiling of x as a float.\n",
        "        This is the smallest integral value >= x.\n",
        "    \n",
        "    copysign(...)\n",
        "        copysign(x, y)\n",
        "        \n",
        "        Return x with the sign of y.\n",
        "    \n",
        "    cos(...)\n",
        "        cos(x)\n",
        "        \n",
        "        Return the cosine of x (measured in radians).\n",
        "    \n",
        "    cosh(...)\n",
        "        cosh(x)\n",
        "        \n",
        "        Return the hyperbolic cosine of x.\n",
        "    \n",
        "    degrees(...)\n",
        "        degrees(x)\n",
        "        \n",
        "        Convert angle x from radians to degrees.\n",
        "    \n",
        "    erf(...)\n",
        "        erf(x)\n",
        "        \n",
        "        Error function at x.\n",
        "    \n",
        "    erfc(...)\n",
        "        erfc(x)\n",
        "        \n",
        "        Complementary error function at x.\n",
        "    \n",
        "    exp(...)\n",
        "        exp(x)\n",
        "        \n",
        "        Return e raised to the power of x.\n",
        "    \n",
        "    expm1(...)\n",
        "        expm1(x)\n",
        "        \n",
        "        Return exp(x)-1.\n",
        "        This function avoids the loss of precision involved in the direct evaluation of exp(x)-1 for small x.\n",
        "    \n",
        "    fabs(...)\n",
        "        fabs(x)\n",
        "        \n",
        "        Return the absolute value of the float x.\n",
        "    \n",
        "    factorial(...)\n",
        "        factorial(x) -> Integral\n",
        "        \n",
        "        Find x!. Raise a ValueError if x is negative or non-integral.\n",
        "    \n",
        "    floor(...)\n",
        "        floor(x)\n",
        "        \n",
        "        Return the floor of x as a float.\n",
        "        This is the largest integral value <= x.\n",
        "    \n",
        "    fmod(...)\n",
        "        fmod(x, y)\n",
        "        \n",
        "        Return fmod(x, y), according to platform C.  x % y may differ.\n",
        "    \n",
        "    frexp(...)\n",
        "        frexp(x)\n",
        "        \n",
        "        Return the mantissa and exponent of x, as pair (m, e).\n",
        "        m is a float and e is an int, such that x = m * 2.**e.\n",
        "        If x is 0, m and e are both 0.  Else 0.5 <= abs(m) < 1.0.\n",
        "    \n",
        "    fsum(...)\n",
        "        fsum(iterable)\n",
        "        \n",
        "        Return an accurate floating point sum of values in the iterable.\n",
        "        Assumes IEEE-754 floating point arithmetic.\n",
        "    \n",
        "    gamma(...)\n",
        "        gamma(x)\n",
        "        \n",
        "        Gamma function at x.\n",
        "    \n",
        "    hypot(...)\n",
        "        hypot(x, y)\n",
        "        \n",
        "        Return the Euclidean distance, sqrt(x*x + y*y).\n",
        "    \n",
        "    isinf(...)\n",
        "        isinf(x) -> bool\n",
        "        \n",
        "        Check if float x is infinite (positive or negative).\n",
        "    \n",
        "    isnan(...)\n",
        "        isnan(x) -> bool\n",
        "        \n",
        "        Check if float x is not a number (NaN).\n",
        "    \n",
        "    ldexp(...)\n",
        "        ldexp(x, i)\n",
        "        \n",
        "        Return x * (2**i).\n",
        "    \n",
        "    lgamma(...)\n",
        "        lgamma(x)\n",
        "        \n",
        "        Natural logarithm of absolute value of Gamma function at x.\n",
        "    \n",
        "    log(...)\n",
        "        log(x[, base])\n",
        "        \n",
        "        Return the logarithm of x to the given base.\n",
        "        If the base not specified, returns the natural logarithm (base e) of x.\n",
        "    \n",
        "    log10(...)\n",
        "        log10(x)\n",
        "        \n",
        "        Return the base 10 logarithm of x.\n",
        "    \n",
        "    log1p(...)\n",
        "        log1p(x)\n",
        "        \n",
        "        Return the natural logarithm of 1+x (base e).\n",
        "        The result is computed in a way which is accurate for x near zero.\n",
        "    \n",
        "    modf(...)\n",
        "        modf(x)\n",
        "        \n",
        "        Return the fractional and integer parts of x.  Both results carry the sign\n",
        "        of x and are floats.\n",
        "    \n",
        "    pow(...)\n",
        "        pow(x, y)\n",
        "        \n",
        "        Return x**y (x to the power of y).\n",
        "    \n",
        "    radians(...)\n",
        "        radians(x)\n",
        "        \n",
        "        Convert angle x from degrees to radians.\n",
        "    \n",
        "    sin(...)\n",
        "        sin(x)\n",
        "        \n",
        "        Return the sine of x (measured in radians).\n",
        "    \n",
        "    sinh(...)\n",
        "        sinh(x)\n",
        "        \n",
        "        Return the hyperbolic sine of x.\n",
        "    \n",
        "    sqrt(...)\n",
        "        sqrt(x)\n",
        "        \n",
        "        Return the square root of x.\n",
        "    \n",
        "    tan(...)\n",
        "        tan(x)\n",
        "        \n",
        "        Return the tangent of x (measured in radians).\n",
        "    \n",
        "    tanh(...)\n",
        "        tanh(x)\n",
        "        \n",
        "        Return the hyperbolic tangent of x.\n",
        "    \n",
        "    trunc(...)\n",
        "        trunc(x:Real) -> Integral\n",
        "        \n",
        "        Truncates x to the nearest Integral toward 0. Uses the __trunc__ magic method.\n",
        "\n",
        "DATA\n",
        "    e = 2.718281828459045\n",
        "    pi = 3.141592653589793\n",
        "\n",
        "\n"
       ]
      }
     ],
     "prompt_number": 51
    },
    {
     "cell_type": "code",
     "collapsed": false,
     "input": [
      "help(m.log10)"
     ],
     "language": "python",
     "metadata": {},
     "outputs": [
      {
       "output_type": "stream",
       "stream": "stdout",
       "text": [
        "Help on built-in function log10 in module math:\n",
        "\n",
        "log10(...)\n",
        "    log10(x)\n",
        "    \n",
        "    Return the base 10 logarithm of x.\n",
        "\n"
       ]
      }
     ],
     "prompt_number": 52
    },
    {
     "cell_type": "code",
     "collapsed": false,
     "input": [
      "mass=90\n",
      "age=50\n",
      "name=\"Subject 1\"\n"
     ],
     "language": "python",
     "metadata": {},
     "outputs": [],
     "prompt_number": 53
    },
    {
     "cell_type": "code",
     "collapsed": false,
     "input": [
      "print name, ':', age, '/', mass"
     ],
     "language": "python",
     "metadata": {},
     "outputs": [
      {
       "output_type": "stream",
       "stream": "stdout",
       "text": [
        "Subject 1 : 50 / 90\n"
       ]
      }
     ],
     "prompt_number": 54
    },
    {
     "cell_type": "code",
     "collapsed": false,
     "input": [
      "mass_pounds = mass * 2.2"
     ],
     "language": "python",
     "metadata": {},
     "outputs": [],
     "prompt_number": 55
    },
    {
     "cell_type": "code",
     "collapsed": false,
     "input": [
      "print mass_pounds"
     ],
     "language": "python",
     "metadata": {},
     "outputs": [
      {
       "output_type": "stream",
       "stream": "stdout",
       "text": [
        "198.0\n"
       ]
      }
     ],
     "prompt_number": 56
    },
    {
     "cell_type": "code",
     "collapsed": false,
     "input": [
      "ratio = mass_pounds / age"
     ],
     "language": "python",
     "metadata": {},
     "outputs": [],
     "prompt_number": 57
    },
    {
     "cell_type": "code",
     "collapsed": false,
     "input": [
      "print ratio"
     ],
     "language": "python",
     "metadata": {},
     "outputs": [
      {
       "output_type": "stream",
       "stream": "stdout",
       "text": [
        "3.96\n"
       ]
      }
     ],
     "prompt_number": 58
    },
    {
     "cell_type": "code",
     "collapsed": false,
     "input": [
      "ratio = mass / age"
     ],
     "language": "python",
     "metadata": {},
     "outputs": [],
     "prompt_number": 60
    },
    {
     "cell_type": "code",
     "collapsed": false,
     "input": [
      "remainder = mass + age"
     ],
     "language": "python",
     "metadata": {},
     "outputs": [],
     "prompt_number": 65
    },
    {
     "cell_type": "code",
     "collapsed": false,
     "input": [
      "print remainder"
     ],
     "language": "python",
     "metadata": {},
     "outputs": [
      {
       "output_type": "stream",
       "stream": "stdout",
       "text": [
        "140\n"
       ]
      }
     ],
     "prompt_number": 66
    },
    {
     "cell_type": "code",
     "collapsed": false,
     "input": [
      "Firstname=\"Julia\"\n",
      "Lastname=\"Gustavsen\""
     ],
     "language": "python",
     "metadata": {},
     "outputs": [],
     "prompt_number": 67
    },
    {
     "cell_type": "code",
     "collapsed": false,
     "input": [
      "Fullname = Firstname + Lastname"
     ],
     "language": "python",
     "metadata": {},
     "outputs": [],
     "prompt_number": 68
    },
    {
     "cell_type": "code",
     "collapsed": false,
     "input": [
      "print Fullname"
     ],
     "language": "python",
     "metadata": {},
     "outputs": [
      {
       "output_type": "stream",
       "stream": "stdout",
       "text": [
        "JuliaGustavsen\n"
       ]
      }
     ],
     "prompt_number": 69
    },
    {
     "cell_type": "code",
     "collapsed": false,
     "input": [
      "str.upper(Fullname)"
     ],
     "language": "python",
     "metadata": {},
     "outputs": [
      {
       "metadata": {},
       "output_type": "pyout",
       "prompt_number": 70,
       "text": [
        "'JULIAGUSTAVSEN'"
       ]
      }
     ],
     "prompt_number": 70
    },
    {
     "cell_type": "code",
     "collapsed": false,
     "input": [
      "str.lower(Fullname)"
     ],
     "language": "python",
     "metadata": {},
     "outputs": [
      {
       "metadata": {},
       "output_type": "pyout",
       "prompt_number": 71,
       "text": [
        "'juliagustavsen'"
       ]
      }
     ],
     "prompt_number": 71
    },
    {
     "cell_type": "code",
     "collapsed": false,
     "input": [
      "Fullname=Fullname.replace(\"a\",\"b\")"
     ],
     "language": "python",
     "metadata": {},
     "outputs": [],
     "prompt_number": 74
    },
    {
     "cell_type": "code",
     "collapsed": false,
     "input": [
      "print Fullname"
     ],
     "language": "python",
     "metadata": {},
     "outputs": [
      {
       "output_type": "stream",
       "stream": "stdout",
       "text": [
        "JulibGustbvsen\n"
       ]
      }
     ],
     "prompt_number": 75
    },
    {
     "cell_type": "code",
     "collapsed": false,
     "input": [
      "dna = 'CTGTTGACATGCATTCACGCTACGCTAGCT'\n"
     ],
     "language": "python",
     "metadata": {},
     "outputs": [],
     "prompt_number": 81
    },
    {
     "cell_type": "code",
     "collapsed": false,
     "input": [
      "dna=dna.replace('C', 'M')\n",
      "dna=dna.replace('G', 'C')\n",
      "dna=dna.replace('M', 'G')\n",
      "dna=dna.replace('A', 'M')\n",
      "dna=dna.replace('T', 'A')\n",
      "dna=dna.replace('M', 'T')"
     ],
     "language": "python",
     "metadata": {},
     "outputs": [],
     "prompt_number": 83
    },
    {
     "cell_type": "code",
     "collapsed": false,
     "input": [
      "print(dna)"
     ],
     "language": "python",
     "metadata": {},
     "outputs": [
      {
       "output_type": "stream",
       "stream": "stdout",
       "text": [
        "GACAACTGTACGTAAGTGCGATGCGATCGA\n"
       ]
      }
     ],
     "prompt_number": 84
    }
   ],
   "metadata": {}
  }
 ]
}